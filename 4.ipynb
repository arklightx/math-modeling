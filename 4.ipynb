{
  "cells":[
    {
      "cell_type":"code",
      "source":[
        "import numpy as np\n",
        "import random\n",
        "import matplotlib.pyplot as plt\n",
        "import math\n",
        "import random as r"
      ],
      "execution_count":9,
      "outputs":[
        
      ],
      "metadata":{
        "datalore":{
          "sheet_delimiter":false
        }
      }
    },
    {
      "cell_type":"code",
      "source":[
        "def generator():\n",
        "    lst = list(np.random.choice((1, 2, 3), size=100, p=(0.1, 0.65, 0.25)))\n",
        "    lst_std = np.random.standard_normal(100) + 5\n",
        "    a = 0\n",
        "    for i, item in enumerate(lst):\n",
        "        if item == 1:\n",
        "            a = np.random.choice((1, 2, 3, 4, 5), p=(0.78, 0.05, 0.03, 0.12, 0.02))\n",
        "        elif item == 2:\n",
        "            a = np.random.choice((1, 2, 3, 4, 5), p=(0.17, 0.6, 0.11, 0, 0.12))\n",
        "        elif item == 3:\n",
        "            a = np.random.choice((1, 2, 3, 4, 5), p=(0.77, 0, 0.06, 0.09, 0.08))\n",
        "        len_message = random.randint(19, 62)\n",
        "        lst[i] = [lst[i], a, len_message, lst_std[i]]\n",
        "    return lst"
      ],
      "execution_count":10,
      "outputs":[
        
      ],
      "metadata":{
        "datalore":{
          "sheet_delimiter":false
        }
      }
    },
    {
      "cell_type":"code",
      "source":[
        "class Data:\n",
        "    def __init__(self, n):\n",
        "        self.arr = n\n",
        "        self.mean = np.mean(self.arr)\n",
        "        self.dis = np.var(self.arr)\n",
        "        self.otkl = np.std(self.arr)\n",
        "\n",
        "    def __repr__(self):\n",
        "        return f\"Мат ожидание:{self.mean}, Дисперсия:{self.dis}, Ср кв отклонение:{self.otkl}, Интенсивность:{1 \/ self.mean}\""
      ],
      "execution_count":11,
      "outputs":[
        
      ],
      "metadata":{
        "datalore":{
          "sheet_delimiter":false
        }
      }
    },
    {
      "cell_type":"code",
      "source":[
        "class Perem:\n",
        "    def __init__(self):\n",
        "        self.type = 0\n",
        "        self.adr = 0\n",
        "        self.len = 0\n",
        "        self.time = 0\n",
        "\n",
        "    def __repr__(self):\n",
        "        return f\"{self.type} {self.adr} {self.len} {self.time:.7}\""
      ],
      "execution_count":12,
      "outputs":[
        
      ],
      "metadata":{
        "datalore":{
          "sheet_delimiter":false
        }
      }
    },
    {
      "cell_type":"code",
      "source":[
        "def create_data():\n",
        "    x = np.random.standard_normal(100) + 5\n",
        "    arr = []\n",
        "    for i in range(100):\n",
        "        temp = Perem()\n",
        "        num = r.random()\n",
        "        if 0 <= num <= 0.1:\n",
        "            temp.type = 1\n",
        "            temp.adr = np.random.choice(range(1, 6), p=(0.78, 0.05, 0.03, 0.12, 0.02))\n",
        "        elif 0.1 < num <= 0.75:\n",
        "            temp.type = 2\n",
        "            temp.adr = np.random.choice(range(1, 6), p=(0.17, 0.6, 0.11, 0, 0.12))\n",
        "        elif 0.75 < num <= 1:\n",
        "            temp.type = 3\n",
        "            temp.adr = np.random.choice(range(1, 6), p=(0.77, 0, 0.06, 0.09, 0.08))\n",
        "        # elif 0.65 < num <= 1:\n",
        "        #     temp.type = 4\n",
        "        #     temp.adr = np.random.choice(range(1, 6), p=(0.02, 0.72, 0.01, 0.07, 0.18))\n",
        "        temp.len = random.randint(19, 62)\n",
        "        temp.time = x[i]\n",
        "        arr.append(temp)\n",
        "    return arr"
      ],
      "execution_count":13,
      "outputs":[
        
      ],
      "metadata":{
        "datalore":{
          "sheet_delimiter":false
        }
      }
    },
    {
      "cell_type":"code",
      "source":[
        "class Req:\n",
        "    counter = 1\n",
        "\n",
        "    def __init__(self, t, m):\n",
        "        self.id = Req.counter\n",
        "        self.create = t\n",
        "        self.start = 0\n",
        "        self.end = 0\n",
        "        self.out = 0\n",
        "        self.spent = math.ceil(m.len \/ 6)\n",
        "        self.data = m\n",
        "        Req.counter += 1\n",
        "\n",
        "    def calc_out(self):\n",
        "        self.out += self.start - self.create\n",
        "\n",
        "    def __repr__(self):\n",
        "        return f\"{self.id} {self.create} {self.start} {self.end} {self.out} {self.spent}\""
      ],
      "execution_count":14,
      "outputs":[
        
      ],
      "metadata":{
        "datalore":{
          "sheet_delimiter":false
        }
      }
    },
    {
      "cell_type":"code",
      "source":[
        "class Que:\n",
        "    def __init__(self):\n",
        "        self.countq = [0, 0, 0]\n",
        "        self.request = []\n",
        "        self.speed = 6\n",
        "\n",
        "    def process(self, arr1):\n",
        "        arr = arr1.copy()\n",
        "        time = int(arr[0].time * 60)\n",
        "        while len(arr) != 0:\n",
        "            mint = min(arr, key = lambda x: x.type).type\n",
        "            i = 0\n",
        "            while i != len(arr):\n",
        "                if arr[i].type > mint:\n",
        "                    self.countq[arr[i].type - 1] += 1\n",
        "                    if not any(x for x in self.request if x.data == arr[i]):\n",
        "                        self.request.append(Req(time, arr[i]))\n",
        "                        time += 1\n",
        "                else:\n",
        "                    if any(x for x in self.request if x.data == arr[i]):\n",
        "                        for x in self.request:\n",
        "                            if x.data == arr[i]:\n",
        "                                time += 1\n",
        "                                x.start = time\n",
        "                                x.end = x.start + x.spent\n",
        "                                time = x.end\n",
        "                                del arr[i]\n",
        "                                i -= 1\n",
        "                                break\n",
        "                    else:\n",
        "                        temp = Req(time, arr[i])\n",
        "                        time += 1\n",
        "                        temp.start = time\n",
        "                        temp.end = temp.start + temp.spent\n",
        "                        time = temp.end\n",
        "                        self.request.append(temp)\n",
        "                        del arr[i]\n",
        "                        i -= 1\n",
        "                i += 1\n",
        "\n",
        "    def razn(self, arr):\n",
        "        new = []\n",
        "        for i in range(len(arr) - 1):\n",
        "            new.append(arr[i + 1] - arr[i])\n",
        "        return new\n",
        "\n",
        "    def calc(self, arr):\n",
        "        param = [\n",
        "            {'timeouts': [], 'w': 0, 'aga': [], 'y': 0, 'times': [], 'averageTime\/expectedValue': 0, \"l\": 0,\n",
        "             \"dispersion\": 0, \"standardDeviation\": 0, \"intensity\": 0, \"averageCnt\": 0, \"pk\": 0, \"n\": 0, \"p\": 0, \"u\": 0}\n",
        "            for x in range(3)\n",
        "        ]\n",
        "        print(\"1)\")\n",
        "        coun = [0 for i in range(4)]\n",
        "        for i in arr:\n",
        "            coun[i.type - 1] += 1\n",
        "        a = 0\n",
        "        arrange = []\n",
        "        for j in range(1, 4):\n",
        "            arrange.append(np.mean([i.len for i in arr if i.type == j]))\n",
        "        for i in arrange:\n",
        "            print(f\"{i:.5}\", end = \" \")\n",
        "        print()\n",
        "        for i in range(3):\n",
        "            param[i][\"averageCnt\"] = (coun[i] + self.countq[i]) \/ 100\n",
        "            a += param[i][\"averageCnt\"]\n",
        "            print(param[i][\"averageCnt\"], end = \" \")\n",
        "        print(\"\\n2)\")\n",
        "        for i in self.request:\n",
        "            param[i.data.type - 1][\"aga\"].append(i.create)\n",
        "            param[i.data.type - 1][\"times\"].append(i.spent)\n",
        "            param[i.data.type - 1][\"timeouts\"].append(i.out)\n",
        "        w = 0\n",
        "        u = 0\n",
        "        l = 0\n",
        "        r = 0\n",
        "        for i in param:\n",
        "            i[\"aga\"] = self.razn(i[\"aga\"])\n",
        "            i[\"averageTime\/expectedValue\"] = np.mean(i[\"times\"])\n",
        "            i[\"dispersion\"] = np.var(i[\"times\"])\n",
        "            i[\"standardDeviation\"] = np.std(i[\"times\"])\n",
        "            i[\"intensity\"] = 1 \/ i[\"averageTime\/expectedValue\"]\n",
        "            i[\"pk\"] = i[\"averageCnt\"] \/ i[\"intensity\"]\n",
        "            i[\"n\"] = abs(1 - i[\"pk\"])\n",
        "            i[\"t\"] = np.mean(i[\"aga\"])\n",
        "            i[\"y\"] = 1 \/ i[\"t\"]\n",
        "            i[\"p\"] = i[\"y\"] \/ a\n",
        "            i[\"w\"] = np.mean(i[\"timeouts\"])\n",
        "            i[\"l\"] = i[\"w\"] * i[\"y\"]\n",
        "            i[\"u\"] = i[\"averageTime\/expectedValue\"]\n",
        "            w += i[\"p\"] * i[\"w\"]\n",
        "            u += i[\"p\"] * i[\"u\"]\n",
        "            l += i[\"y\"] * i[\"w\"]\n",
        "            r += i[\"pk\"]\n",
        "        for i in param:\n",
        "            print(f\"{i['l']:.3f}\", end = \" \")\n",
        "        print(f\"\\n{w:.3f}\\n{u:.3f}\\n{l:.3f}\")\n",
        "        print(\"3)\")\n",
        "        for i in [\"averageCnt\", \"pk\", \"n\", \"r\", \"u\", \"intensity\"]:\n",
        "            if i == \"r\":\n",
        "                print(f\"{r:.3f}\")\n",
        "            else:\n",
        "                for j in range(3):\n",
        "                    print(f\"{param[j][i]:.3f}\", end = \" \")\n",
        "                print()"
      ],
      "execution_count":15,
      "outputs":[
        
      ],
      "metadata":{
        "datalore":{
          "sheet_delimiter":false
        }
      }
    },
    {
      "cell_type":"code",
      "source":[
        "queue = Que()\n",
        "arr = sorted(create_data(), key = lambda x: x.time)\n",
        "queue.process(arr)\n",
        "\n",
        "for i in queue.request:\n",
        "    i.calc_out()\n",
        "    print(i)\n",
        "queue.calc(arr)\n",
        "print()"
      ],
      "execution_count":16,
      "outputs":[
        {
          "name":"stdout",
          "text":[
            "1 147 348 355 201 7\n",
            "2 148 149 158 1 9\n",
            "3 158 356 363 198 7\n",
            "4 159 876 885 717 9\n",
            "5 160 161 166 1 5\n",
            "6 166 364 371 198 7\n",
            "7 167 886 890 719 4\n",
            "8 168 372 381 204 9\n",
            "9 169 170 175 1 5\n",
            "10 175 382 388 207 6\n",
            "11 176 389 398 213 9\n",
            "12 177 891 896 714 5\n",
            "13 178 399 404 221 5\n",
            "14 179 897 906 718 9\n",
            "15 180 907 911 727 4\n",
            "16 181 405 414 224 9\n",
            "17 182 415 423 233 8\n",
            "18 183 424 433 241 9\n",
            "19 184 434 441 250 7\n",
            "20 185 442 447 257 5\n",
            "21 186 448 456 262 8\n",
            "22 187 457 465 270 8\n",
            "23 188 466 473 278 7\n",
            "24 189 474 478 285 4\n",
            "25 190 912 917 722 5\n",
            "26 191 479 488 288 9\n",
            "27 192 489 499 297 10\n",
            "28 193 918 923 725 5\n",
            "29 194 500 507 306 7\n",
            "30 195 508 513 313 5\n",
            "31 196 514 523 318 9\n",
            "32 197 198 208 1 10\n",
            "33 208 524 530 316 6\n",
            "34 209 531 541 322 10\n",
            "35 210 211 217 1 6\n",
            "36 217 542 551 325 9\n",
            "37 218 219 223 1 4\n",
            "38 223 552 562 329 10\n",
            "39 224 225 230 1 5\n",
            "40 230 563 567 333 4\n",
            "41 231 568 574 337 6\n",
            "42 232 233 243 1 10\n",
            "43 243 575 585 332 10\n",
            "44 244 924 929 680 5\n",
            "45 245 586 592 341 6\n",
            "46 246 593 604 347 11\n",
            "47 247 605 616 358 11\n",
            "48 248 930 939 682 9\n",
            "49 249 617 625 368 8\n",
            "50 250 940 948 690 8\n",
            "51 251 949 959 698 10\n",
            "52 252 626 634 374 8\n",
            "53 253 635 645 382 10\n",
            "54 254 646 654 392 8\n",
            "55 255 655 660 400 5\n",
            "56 256 661 666 405 5\n",
            "57 257 960 964 703 4\n",
            "58 258 259 266 1 7\n",
            "59 266 667 675 401 8\n",
            "60 267 965 975 698 10\n",
            "61 268 676 684 408 8\n",
            "62 269 685 693 416 8\n",
            "63 270 694 704 424 10\n",
            "64 271 705 710 434 5\n",
            "65 272 711 716 439 5\n",
            "66 273 976 982 703 6\n",
            "67 274 717 725 443 8\n",
            "68 275 726 731 451 5\n",
            "69 276 983 993 707 10\n",
            "70 277 732 739 455 7\n",
            "71 278 279 289 1 10\n",
            "72 289 740 750 451 10\n",
            "73 290 751 756 461 5\n",
            "74 291 994 1002 703 8\n",
            "75 292 757 762 465 5\n",
            "76 293 1003 1012 710 9\n",
            "77 294 1013 1018 719 5\n",
            "78 295 296 304 1 8\n",
            "79 304 763 767 459 4\n",
            "80 305 1019 1029 714 10\n",
            "81 306 768 773 462 5\n",
            "82 307 1030 1036 723 6\n",
            "83 308 774 779 466 5\n",
            "84 309 1037 1043 728 6\n",
            "85 310 780 785 470 5\n",
            "86 311 786 795 475 9\n",
            "87 312 796 804 484 8\n",
            "88 313 805 812 492 7\n",
            "89 314 813 817 499 4\n",
            "90 315 316 327 1 11\n",
            "91 327 818 824 491 6\n",
            "92 328 825 832 497 7\n",
            "93 329 330 340 1 10\n",
            "94 340 833 839 493 6\n",
            "95 341 1044 1050 703 6\n",
            "96 342 840 847 498 7\n",
            "97 343 848 853 505 5\n",
            "98 344 854 860 510 6\n",
            "99 345 861 868 516 7\n",
            "100 346 869 875 523 6\n",
            "1)\n",
            "43.462 39.723 39.227 \n",
            "0.13 1.3 0.66 \n",
            "2)\n",
            "0.066 118.812 81.834 \n",
            "96.035\n",
            "1.724\n",
            "200.712\n",
            "3)\n",
            "0.130 1.300 0.660 \n",
            "1.000 9.260 4.590 \n",
            "0.000 8.260 3.590 \n",
            "14.850\n",
            "7.692 7.123 6.955 \n",
            "0.130 0.140 0.144 \n",
            "\n"
          ],
          "output_type":"stream"
        }
      ],
      "metadata":{
        "datalore":{
          "sheet_delimiter":false
        }
      }
    }
  ],
  "metadata":{
    
  },
  "nbformat":4,
  "nbformat_minor":0
}