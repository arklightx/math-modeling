{
  "cells":[
    {
      "cell_type":"code",
      "source":[
        "import math\n",
        "import numpy as np\n",
        "import random\n",
        "import matplotlib.pyplot as plt\n",
        "import seaborn as sbn"
      ],
      "execution_count":111,
      "outputs":[
        
      ],
      "metadata":{
        "datalore":{
          "sheet_delimiter":false
        }
      }
    },
    {
      "cell_type":"code",
      "source":[
        "def generate_random_float_list(n):\n",
        "    lst = []\n",
        "    for i in range(n):\n",
        "        lst.append(round(random.uniform(0, 1), 4))\n",
        "    return lst"
      ],
      "execution_count":112,
      "outputs":[
        
      ],
      "metadata":{
        "datalore":{
          "sheet_delimiter":false
        }
      }
    },
    {
      "cell_type":"code",
      "source":[
        "def default_rand(use_test=False):\n",
        "    tests = [10 ** 2, 10 ** 3, 10 ** 4]\n",
        "    for test in tests:\n",
        "        arr = np.around(np.array(generate_random_float_list(test)), 4)\n",
        "        if not use_test:\n",
        "            print(\"----------\")\n",
        "            print(\"Test \", test)\n",
        "            print(\"Average \", np.mean(arr))\n",
        "            print(\"Variance \", np.var(arr))\n",
        "            print(\"Sqrt variance \", np.std(arr))\n",
        "            generate_graphics(arr)\n",
        "    print(\"\\n\\n\\n-----------------------------------\")"
      ],
      "execution_count":113,
      "outputs":[
        
      ],
      "metadata":{
        "datalore":{
          "sheet_delimiter":false
        }
      }
    },
    {
      "cell_type":"code",
      "source":[
        "def generate_next_digit(a, b):\n",
        "    c = str(round(a * b, 8)).split(\".\")[1]\n",
        "    next_digit = c[2:6]\n",
        "    return float(\"0.\" + next_digit)"
      ],
      "execution_count":114,
      "outputs":[
        
      ],
      "metadata":{
        "datalore":{
          "sheet_delimiter":false
        }
      }
    },
    {
      "cell_type":"code",
      "source":[
        "def my_rand(use_test=False):\n",
        "    tests = [10 ** 2, 10 ** 3, 10 ** 4]\n",
        "    for test in tests:\n",
        "        arr = [round(random.uniform(0.0001, 1), 4), round(random.uniform(0.0001, 1), 4)]\n",
        "        for i in range(2, test):\n",
        "            # np.append(arr, generate_next_digit(arr[i-1], arr[i-2]))\n",
        "            arr.append(generate_next_digit(arr[i - 1], arr[i - 2]))\n",
        "        print(\"---------------------------------\")\n",
        "        print(\"Мат. ожидание \", np.mean(arr))\n",
        "        if not use_test:\n",
        "            print(\"Дисперсия \", np.var(arr))\n",
        "            print(\"Отклонение \", np.std(arr))\n",
        "            generate_graphics(arr)"
      ],
      "execution_count":115,
      "outputs":[
        
      ],
      "metadata":{
        "datalore":{
          "sheet_delimiter":false
        }
      }
    },
    {
      "cell_type":"code",
      "source":[
        "def generate_graphics(lst):\n",
        "    y = len(lst)\n",
        "    x = lst\n",
        "    fig, ax = plt.subplots()\n",
        "    ax.hist(x, y)\n",
        "    fig.set_figwidth(20)\n",
        "    fig.set_figheight(8)\n",
        "    plt.rcParams.update({\"font.size\": 22})\n",
        "    # plt.figure(figsize=(25, 15))\n",
        "    # plt.hist(x, y)\n",
        "    plt.show()"
      ],
      "execution_count":116,
      "outputs":[
        
      ],
      "metadata":{
        "datalore":{
          "sheet_delimiter":false
        }
      }
    },
    {
      "cell_type":"code",
      "source":[
        "def generate_test_graphic(lst):\n",
        "    x = lst\n",
        "    y = np.arange(-1, 1, 0.2)\n",
        "    plt.plot(y, x)\n",
        "    plt.show()"
      ],
      "execution_count":117,
      "outputs":[
        
      ],
      "metadata":{
        "datalore":{
          "sheet_delimiter":false
        }
      }
    },
    {
      "cell_type":"code",
      "source":[
        "def test_def_rand():\n",
        "    print(\"Def Rand\")\n",
        "    lst_static_mean = []\n",
        "    lst_dynamic_mean = []\n",
        "    for i in range(10):\n",
        "        arr = np.around(np.array(generate_random_float_list(1000)), 4)\n",
        "        lst_static_mean.append(np.mean(arr))\n",
        "    for i in range(10):\n",
        "        arr = np.around(np.array(generate_random_float_list(1000 * (i + 1))), 4)\n",
        "        lst_dynamic_mean.append(np.mean(arr))\n",
        "    lst_dynamic_mean = np.array(lst_dynamic_mean) - 0.5\n",
        "    lst_static_mean = np.array(lst_static_mean) - 0.5\n",
        "    generate_test_graphic(lst_static_mean)\n",
        "    generate_test_graphic(lst_dynamic_mean)\n",
        "    print(lst_static_mean, lst_dynamic_mean)"
      ],
      "execution_count":118,
      "outputs":[
        
      ],
      "metadata":{
        "datalore":{
          "sheet_delimiter":false
        }
      }
    },
    {
      "cell_type":"code",
      "source":[
        "def test_my_rand():\n",
        "    print(\"My Rand\")\n",
        "    lst_static_mean = []\n",
        "    lst_dynamic_mean = []\n",
        "    for i in range(10):\n",
        "        arr = [round(random.uniform(0.0001, 1), 4), round(random.uniform(0.0001, 1), 4)]\n",
        "        for j in range(2, 1000):\n",
        "            arr.append(generate_next_digit(arr[j - 1], arr[j - 2]))\n",
        "        lst_static_mean.append(np.mean(arr))\n",
        "    for i in range(10):\n",
        "        arr = [round(random.uniform(0.0001, 1), 4), round(random.uniform(0.0001, 1), 4)]\n",
        "        for j in range(2, 1000 * (i + 1)):\n",
        "            arr.append(generate_next_digit(arr[j - 1], arr[j - 2]))\n",
        "        lst_dynamic_mean.append(np.mean(arr))\n",
        "    lst_dynamic_mean = np.array(lst_dynamic_mean)\n",
        "    lst_static_mean = np.array(lst_static_mean)\n",
        "    generate_test_graphic(lst_static_mean)\n",
        "    generate_test_graphic(lst_dynamic_mean)\n",
        "    print(lst_static_mean, lst_dynamic_mean)\n",
        "    print(lst_static_mean - 0.5, lst_dynamic_mean - 0.5)"
      ],
      "execution_count":119,
      "outputs":[
        
      ],
      "metadata":{
        "datalore":{
          "sheet_delimiter":false
        }
      }
    },
    {
      "cell_type":"code",
      "source":[
        "# default_rand()\n",
        "# my_rand()\n",
        "# test_def_rand()\n",
        "test_my_rand()"
      ],
      "execution_count":120,
      "outputs":[
        {
          "name":"stdout",
          "text":[
            "My Rand\n",
            "[0.1168586 0.1192452 0.4966064 0.1980258 0.5081547 0.4095847 0.2167979\n",
            " 0.511971  0.1905844 0.3742787] [0.1903439  0.50346945 0.0011578  0.13770465 0.05001582 0.0943894\n",
            " 0.02341029 0.15376376 0.0685905  0.06416588]\n",
            "[-0.3831414 -0.3807548 -0.0033936 -0.3019742  0.0081547 -0.0904153\n",
            " -0.2832021  0.011971  -0.3094156 -0.1257213] [-0.3096561   0.00346945 -0.4988422  -0.36229535 -0.44998418 -0.4056106\n",
            " -0.47658971 -0.34623624 -0.4314095  -0.43583412]\n"
          ],
          "output_type":"stream"
        },
        {
          "data":{
            "image\/png":"[encoded data removed]"
          },
          "metadata":{
            "image\/png":{
              
            }
          },
          "output_type":"display_data"
        }
      ],
      "metadata":{
        "datalore":{
          "sheet_delimiter":false
        }
      }
    }
  ],
  "metadata":{
    
  },
  "nbformat":4,
  "nbformat_minor":0
}